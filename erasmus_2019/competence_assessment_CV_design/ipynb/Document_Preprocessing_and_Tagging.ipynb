{
 "cells": [
  {
   "cell_type": "code",
   "execution_count": 1,
   "metadata": {},
   "outputs": [
    {
     "name": "stderr",
     "output_type": "stream",
     "text": [
      "C:\\Users\\lucap\\Anaconda3\\envs\\MasterDegreeThesis (Amsterdam)\\lib\\site-packages\\gensim\\utils.py:1212: UserWarning: detected Windows; aliasing chunkize to chunkize_serial\n",
      "  warnings.warn(\"detected Windows; aliasing chunkize to chunkize_serial\")\n"
     ]
    }
   ],
   "source": [
    "import gensim\n",
    "import json\n",
    "import re\n",
    "import smart_open\n",
    "from gensim.models.doc2vec import TaggedDocument\n",
    "from nltk.corpus import stopwords"
   ]
  },
  {
   "cell_type": "code",
   "execution_count": 2,
   "metadata": {},
   "outputs": [],
   "source": [
    "def readFile(path):\n",
    "    competencies_json = []\n",
    "    with smart_open.smart_open(path, encoding=\"utf8\") as f:\n",
    "        for line in f:\n",
    "            competencies_json.append(json.loads(line))\n",
    "    return competencies_json"
   ]
  },
  {
   "cell_type": "code",
   "execution_count": 3,
   "metadata": {},
   "outputs": [],
   "source": [
    "def transformText(text):    \n",
    "    \n",
    "    stops = set(stopwords.words(\"english\"))  \n",
    "    stops.add('also')\n",
    "    # Convert text to lower\n",
    "    text = text.lower()\n",
    "    # Removing non ASCII chars    \n",
    "    text = re.sub(r'[^\\x00-\\x7f]',r' ',text)  \n",
    "    # Strip multiple whitespaces\n",
    "    text = gensim.corpora.textcorpus.strip_multiple_whitespaces(text)  \n",
    "    # Removing all the stopwords  \n",
    "    # Preprocessed text after stop words removal\n",
    "    #text = \" \".join(filtered_words)  \n",
    "    # Remove the punctuation\n",
    "    text = gensim.parsing.preprocessing.strip_punctuation2(text)  \n",
    "    # Strip all the numerics\n",
    "    text = gensim.parsing.preprocessing.strip_numeric(text)   \n",
    "    # Strip multiple whitespaces\n",
    "    text = gensim.corpora.textcorpus.strip_multiple_whitespaces(text)  \n",
    "    # Stemming\n",
    "    stem = gensim.parsing.preprocessing.stem_text(text)\n",
    "    \n",
    "    filtered_words = [word for word in stem.split() if word not in stops]  \n",
    "    # Removing all the tokens with lesser than 3 characters\n",
    "    return gensim.corpora.textcorpus.remove_short(filtered_words, minsize=3)"
   ]
  },
  {
   "cell_type": "code",
   "execution_count": 4,
   "metadata": {},
   "outputs": [],
   "source": [
    "def splitAndTag(file):\n",
    "    list_comp = []\n",
    "    for comp in file:\n",
    "        list_comp.append(TaggedDocument((transformText(comp['skillText'])), [comp['skillName']])) # Necessario l'impacchettamento in parentesi in questo modo sennò non funziona\n",
    "    return list_comp"
   ]
  }
 ],
 "metadata": {
  "kernelspec": {
   "display_name": "Python 3",
   "language": "python",
   "name": "python3"
  },
  "language_info": {
   "codemirror_mode": {
    "name": "ipython",
    "version": 3
   },
   "file_extension": ".py",
   "mimetype": "text/x-python",
   "name": "python",
   "nbconvert_exporter": "python",
   "pygments_lexer": "ipython3",
   "version": "3.6.7"
  }
 },
 "nbformat": 4,
 "nbformat_minor": 2
}
