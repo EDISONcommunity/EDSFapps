{
 "cells": [
  {
   "cell_type": "code",
   "execution_count": 7,
   "metadata": {},
   "outputs": [],
   "source": [
    "import pandas as pd"
   ]
  },
  {
   "cell_type": "code",
   "execution_count": 8,
   "metadata": {},
   "outputs": [],
   "source": [
    "# Prendere le materie, fare il merging eliminando i doppioni\n",
    "def getCourseFromGaps(c_t_i, course_dictionary):\n",
    "    returnDict = dict()\n",
    "    for comp in c_t_i:\n",
    "        subjects = course_dictionary[comp[0]]\n",
    "        for sub in subjects:\n",
    "            returnDict[sub[0].replace(\"_\",\" \")] = sub[1]\n",
    "    return returnDict"
   ]
  },
  {
   "cell_type": "code",
   "execution_count": 9,
   "metadata": {},
   "outputs": [],
   "source": [
    "def getCoursesAndCredits(path):\n",
    "    cmp_cfu = pd.read_csv(path, sep='\\t', header=0)\n",
    "    return dict([(i,a) for i, a in zip(cmp_cfu.Course, cmp_cfu.Credits)])"
   ]
  },
  {
   "cell_type": "code",
   "execution_count": 10,
   "metadata": {},
   "outputs": [],
   "source": [
    "def applyTaxionomy(sub, course_credits):\n",
    "    complete = dict()\n",
    "    half = dict()\n",
    "    for course in sub.items():\n",
    "        if(course[1] <= 3):\n",
    "            complete[course[0]] = min(round(course[1]), course_credits[course[0]], 3)\n",
    "\n",
    "        elif(course[1] > 3 and course[1] < 7):\n",
    "            complete[course[0]] = min(round(course[1]), course_credits[course[0]], 6)\n",
    "\n",
    "        elif(course[1] >= 7): \n",
    "            current_credits = round(course_credits[course[0]]/2)\n",
    "            complete[course[0]] = current_credits\n",
    "            half[course[0]] = course_credits[course[0]]-current_credits\n",
    "    return complete, half"
   ]
  },
  {
   "cell_type": "code",
   "execution_count": 11,
   "metadata": {},
   "outputs": [],
   "source": [
    "def generatePeriods(year):\n",
    "    periods = []\n",
    "    for ind in range(1, (year+1)):\n",
    "        for sem in range(1,3):\n",
    "            periods.append(str(ind)+\"° Year - \"+str(sem)+\"° Semester\")\n",
    "    return periods"
   ]
  },
  {
   "cell_type": "code",
   "execution_count": 12,
   "metadata": {},
   "outputs": [],
   "source": [
    "# Auxiliary functions\n",
    "def intersection(lst1, lst2): \n",
    "    lst3 = [value for value in lst1 if value in lst2] \n",
    "    return lst3 \n",
    "\n",
    "def extractCourse(lis):\n",
    "    outcome = []\n",
    "    for elem in lis:\n",
    "        outcome.append(elem[0])\n",
    "    return outcome"
   ]
  },
  {
   "cell_type": "code",
   "execution_count": 13,
   "metadata": {},
   "outputs": [],
   "source": [
    "def getLearingPath(complete, half):\n",
    "    semesters = dict()\n",
    "    num_subj = 0\n",
    "    tot_credits = 0\n",
    "    index = 0\n",
    "    sem_name = generatePeriods(10)\n",
    "    list_courses_in_semester = []\n",
    "\n",
    "    for course in complete.items():\n",
    "        if((tot_credits + course[1]) < 25 and num_subj<4):\n",
    "            num_subj += 1\n",
    "            tot_credits += course[1]\n",
    "            list_courses_in_semester.append(course)\n",
    "\n",
    "        else:\n",
    "            semesters[sem_name[index]] = list_courses_in_semester\n",
    "            index += 1 \n",
    "            susp = intersection(extractCourse(list_courses_in_semester), list(half.keys()))\n",
    "\n",
    "            list_courses_in_semester = []\n",
    "            num_subj = 0\n",
    "            tot_credits = 0\n",
    "\n",
    "            for s in susp:\n",
    "                list_courses_in_semester.append((s, half[s]))\n",
    "                num_subj += 1\n",
    "                tot_credits += half[s]\n",
    "                #\n",
    "                del half[s]\n",
    "\n",
    "            if((tot_credits + course[1]) > 25 or num_subj==4):\n",
    "                semesters[sem_name[index]] = list_courses_in_semester\n",
    "                index += 1\n",
    "                list_courses_in_semester = []\n",
    "                num_subj = 0\n",
    "                tot_credits = 0\n",
    "\n",
    "            list_courses_in_semester.append(course)\n",
    "            num_subj += 1\n",
    "            tot_credits += course[1]           \n",
    "\n",
    "    semesters[sem_name[index]] = list_courses_in_semester\n",
    "    index += 1\n",
    "    list_courses_in_semester = []\n",
    "    num_subj = 0\n",
    "    tot_credits = 0\n",
    "\n",
    "    # Penso che se sono avanzati degli insegnamenti non potranno certo andare nel semestre corrente ma nel successivo\n",
    "    if(len(half)!=0):\n",
    "        for item in half.items():\n",
    "            list_courses_in_semester.append(item)\n",
    "        semesters[sem_name[index]] = list_courses_in_semester\n",
    "    return semesters"
   ]
  },
  {
   "cell_type": "code",
   "execution_count": 14,
   "metadata": {},
   "outputs": [],
   "source": [
    "def prettyPrintLP(semeste):\n",
    "    for itm in semeste.items():\n",
    "        print(itm[0]+'\\n')\n",
    "        for curs in itm[1]:\n",
    "            print('\\t'+str(curs))\n",
    "        print('\\n')"
   ]
  }
 ],
 "metadata": {
  "kernelspec": {
   "display_name": "Python 3",
   "language": "python",
   "name": "python3"
  },
  "language_info": {
   "codemirror_mode": {
    "name": "ipython",
    "version": 3
   },
   "file_extension": ".py",
   "mimetype": "text/x-python",
   "name": "python",
   "nbconvert_exporter": "python",
   "pygments_lexer": "ipython3",
   "version": "3.6.7"
  }
 },
 "nbformat": 4,
 "nbformat_minor": 2
}
