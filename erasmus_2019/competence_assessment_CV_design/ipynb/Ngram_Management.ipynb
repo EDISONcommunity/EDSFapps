{
 "cells": [
  {
   "cell_type": "code",
   "execution_count": 8,
   "metadata": {},
   "outputs": [],
   "source": [
    "import Document_Preprocessing_and_Tagging\n",
    "from collections import Counter\n",
    "from itertools import tee, islice"
   ]
  },
  {
   "cell_type": "code",
   "execution_count": 1,
   "metadata": {},
   "outputs": [],
   "source": [
    "def ngrams(lst, n):\n",
    "    tlst = lst\n",
    "    while True:\n",
    "        a, b = tee(tlst)\n",
    "        l = tuple(islice(a, n))\n",
    "        if len(l) == n:\n",
    "            yield l\n",
    "            next(b)\n",
    "            tlst = b\n",
    "        else:\n",
    "            break"
   ]
  },
  {
   "cell_type": "code",
   "execution_count": 9,
   "metadata": {},
   "outputs": [],
   "source": [
    "def getNGramFromDocuments(cj, num):\n",
    "    l = []\n",
    "    for i in range(0, len(cj)):\n",
    "        l.append(Document_Preprocessing_and_Tagging.transformText(cj[i]['skillText']))\n",
    "    flat_list = [item for sublist in l for item in sublist]\n",
    "    pairs = Counter(ngrams(flat_list, num))\n",
    "    return list(pairs.items())"
   ]
  },
  {
   "cell_type": "code",
   "execution_count": 11,
   "metadata": {},
   "outputs": [],
   "source": [
    "def computeCommonNgrams(all_ng, limit):\n",
    "    bigram = []\n",
    "    for item in all_ng:\n",
    "        if(item[1] >= limit):\n",
    "            bigram.append(item[0][0]+\" \"+item[0][1])\n",
    "\n",
    "    mainList = list()\n",
    "    for elem in bigram:\n",
    "        h_list = []\n",
    "        h_list.append(elem)\n",
    "        mainList.append(h_list)\n",
    "    return bigram, mainList"
   ]
  }
 ],
 "metadata": {
  "kernelspec": {
   "display_name": "Python 3",
   "language": "python",
   "name": "python3"
  },
  "language_info": {
   "codemirror_mode": {
    "name": "ipython",
    "version": 3
   },
   "file_extension": ".py",
   "mimetype": "text/x-python",
   "name": "python",
   "nbconvert_exporter": "python",
   "pygments_lexer": "ipython3",
   "version": "3.6.7"
  }
 },
 "nbformat": 4,
 "nbformat_minor": 2
}
