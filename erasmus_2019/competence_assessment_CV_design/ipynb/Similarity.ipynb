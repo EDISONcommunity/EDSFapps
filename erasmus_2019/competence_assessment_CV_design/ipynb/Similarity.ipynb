{
 "cells": [
  {
   "cell_type": "code",
   "execution_count": 3,
   "metadata": {},
   "outputs": [],
   "source": [
    "import Document_Preprocessing_and_Tagging\n",
    "import matplotlib.pyplot as plt\n",
    "from math import pi"
   ]
  },
  {
   "cell_type": "code",
   "execution_count": 4,
   "metadata": {},
   "outputs": [],
   "source": [
    "def computeSimilarity(text, model):\n",
    "    outcome = Document_Preprocessing_and_Tagging.transformText(text)\n",
    "    model.random.seed(0)\n",
    "    inferred_vector = model.infer_vector(outcome)\n",
    "    sims = model.docvecs.most_similar([inferred_vector], topn=len(model.docvecs))\n",
    "    sims.sort(key=lambda x: x[0])\n",
    "    return sims"
   ]
  },
  {
   "cell_type": "code",
   "execution_count": 5,
   "metadata": {},
   "outputs": [],
   "source": [
    "def plotSpiderChart(similarity):\n",
    "    categories = [x[0] for x in similarity]\n",
    "    values = [x[1] for x in similarity]\n",
    "    N = len(categories)\n",
    "    \n",
    "    # We are going to plot the first line of the data frame.\n",
    "    # But we need to repeat the first value to close the circular graph:\n",
    "    values += values[:1]\n",
    "    values\n",
    "\n",
    "    # What will be the angle of each axis in the plot? (we divide the plot / number of variable)\n",
    "    angles = [n / float(N) * 2 * pi for n in range(N)]\n",
    "    angles += angles[:1]\n",
    "\n",
    "    # Initialise the spider plot\n",
    "    ax = plt.subplot(111, polar=True)\n",
    "\n",
    "    # Draw one axe per variable + add labels labels yet\n",
    "    plt.xticks(angles[:-1], categories, color='black', size=7)\n",
    "\n",
    "    # Draw ylabels\n",
    "    ax.set_rlabel_position(0)\n",
    "    plt.ylim(0,1)\n",
    "\n",
    "    # Plot data\n",
    "    ax.plot(angles, values, linewidth=1, linestyle='solid')\n",
    "\n",
    "    # Fill area\n",
    "    #ax.fill(angles, values, 'b', alpha=0.1)\n",
    "    plt.show()"
   ]
  },
  {
   "cell_type": "code",
   "execution_count": 6,
   "metadata": {},
   "outputs": [],
   "source": [
    "def plotSpiderChart2Graphs(sim1, sim2):\n",
    "    categories = [x[0] for x in sim1]\n",
    "    values1 = [x[1] for x in sim1]\n",
    "    values2 = [x[1] for x in sim2]\n",
    "    N = len(categories)\n",
    "    \n",
    "    values1 += values1[:1]\n",
    "    values1\n",
    "    \n",
    "    values2 += values2[:1]\n",
    "    values2\n",
    "\n",
    "    angles = [n / float(N) * 2 * pi for n in range(N)]\n",
    "    angles += angles[:1]\n",
    "\n",
    "    ax = plt.subplot(111, polar=True)\n",
    "    plt.xticks(angles[:-1], categories, color='black', size=7)\n",
    "\n",
    "    ax.set_rlabel_position(0)\n",
    "    plt.ylim(0,1)\n",
    "    ax.plot(angles, values1, linewidth=1, linestyle='solid')\n",
    "    ax.plot(angles, values2, linewidth=2, linestyle='solid')\n",
    "    plt.show()"
   ]
  }
 ],
 "metadata": {
  "kernelspec": {
   "display_name": "Python 3",
   "language": "python",
   "name": "python3"
  },
  "language_info": {
   "codemirror_mode": {
    "name": "ipython",
    "version": 3
   },
   "file_extension": ".py",
   "mimetype": "text/x-python",
   "name": "python",
   "nbconvert_exporter": "python",
   "pygments_lexer": "ipython3",
   "version": "3.6.7"
  }
 },
 "nbformat": 4,
 "nbformat_minor": 2
}
