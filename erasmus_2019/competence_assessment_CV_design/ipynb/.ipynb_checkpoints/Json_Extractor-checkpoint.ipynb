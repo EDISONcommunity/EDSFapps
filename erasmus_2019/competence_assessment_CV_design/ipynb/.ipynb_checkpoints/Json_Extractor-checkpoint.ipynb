{
 "cells": [
  {
   "cell_type": "code",
   "execution_count": 2,
   "metadata": {},
   "outputs": [],
   "source": [
    "import docx\n",
    "import re\n",
    "import json"
   ]
  },
  {
   "cell_type": "code",
   "execution_count": 3,
   "metadata": {},
   "outputs": [],
   "source": [
    "regex = r\"((((\\n\\n)^[A-Z]{1}[A-Za-z \\|\\&\\-]+\\n\\n))|\\n\\n[A-Z]+\\n|[sS]ummary)\""
   ]
  },
  {
   "cell_type": "code",
   "execution_count": 4,
   "metadata": {},
   "outputs": [],
   "source": [
    "def getTextFromPath(filename):\n",
    "    doc = docx.Document(filename)\n",
    "    fullText = []\n",
    "    for paragraph in doc.paragraphs:\n",
    "        fullText.append(paragraph.text)\n",
    "    return '\\n'.join(fullText)"
   ]
  },
  {
   "cell_type": "code",
   "execution_count": 5,
   "metadata": {},
   "outputs": [],
   "source": [
    "def getLists(regex, cv):\n",
    "    regex_result = re.finditer(regex, cv, re.MULTILINE)\n",
    "    spanningList = list()\n",
    "    titleList = list()\n",
    "\n",
    "    for rex in regex_result:\n",
    "        spanningList.append(rex.span())\n",
    "        titleList.append(rex.group())\n",
    "     \n",
    "    #Post-Processing on titleList\n",
    "    titleList = [str.replace(\"\\n\", \"\") for str in titleList]\n",
    "    titleList = [x.capitalize() for x in titleList]    \n",
    "    return spanningList, titleList"
   ]
  },
  {
   "cell_type": "code",
   "execution_count": 7,
   "metadata": {},
   "outputs": [],
   "source": [
    "def extractParagraphs():\n",
    "    outcome = {}\n",
    "    for i in range (0,len(spanningList)):\n",
    "        if(i<(len(spanningList)-1)):\n",
    "            outcome[titleList[i]] = {'description' : cv[spanningList[i][1]:spanningList[i+1][0]]}\n",
    "        else:\n",
    "            outcome[titleList[i]] = {'description' : cv[spanningList[i][1]:]}\n",
    "\n",
    "    #ExtraInformations\n",
    "    if(spanningList[0][0]!=0):\n",
    "        outcome['Other']= {'description' : cv[0:spanningList[0][0]]}\n",
    "        \n",
    "    return outcome"
   ]
  },
  {
   "cell_type": "code",
   "execution_count": 9,
   "metadata": {},
   "outputs": [],
   "source": [
    "#Example fileName = 'outcome.json'\n",
    "def generateFile(fileName, outcome):\n",
    "    with open(fileName, 'w') as outfile:\n",
    "        outfile.write(json.dumps(outcome, sort_keys=True, indent=4, separators=(',', ': '))) # Pretty Print JSON\n",
    "    outfile.close()"
   ]
  },
  {
   "cell_type": "code",
   "execution_count": null,
   "metadata": {},
   "outputs": [],
   "source": [
    "#Test - Volendo puoi rimuoverla successivmente"
   ]
  }
 ],
 "metadata": {
  "kernelspec": {
   "display_name": "Python 3",
   "language": "python",
   "name": "python3"
  },
  "language_info": {
   "codemirror_mode": {
    "name": "ipython",
    "version": 3
   },
   "file_extension": ".py",
   "mimetype": "text/x-python",
   "name": "python",
   "nbconvert_exporter": "python",
   "pygments_lexer": "ipython3",
   "version": "3.7.0"
  }
 },
 "nbformat": 4,
 "nbformat_minor": 2
}
