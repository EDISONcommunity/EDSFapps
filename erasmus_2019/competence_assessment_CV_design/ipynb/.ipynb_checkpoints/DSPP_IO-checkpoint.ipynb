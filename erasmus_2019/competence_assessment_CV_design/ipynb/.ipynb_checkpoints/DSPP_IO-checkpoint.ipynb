{
 "cells": [
  {
   "cell_type": "code",
   "execution_count": 3,
   "metadata": {},
   "outputs": [],
   "source": [
    "import pandas as pd"
   ]
  },
  {
   "cell_type": "code",
   "execution_count": 4,
   "metadata": {},
   "outputs": [],
   "source": [
    "def getWeightsForDSPP(fileName, dspp):\n",
    "    with open(fileName, 'r') as f:\n",
    "        list_weights = f.readlines()\n",
    "    list_weights = [x.strip() for x in list_weights] # It removes whitespace characters like `\\n` at the end of each line\n",
    "    \n",
    "    weighted_list = []\n",
    "    for item in list_weights:\n",
    "        tuple_w = item.split(\"\\t\")\n",
    "        if(tuple_w[1] == dspp):\n",
    "            weighted_list.append((tuple_w[0], tuple_w[2]))\n",
    "    dic = dict(weighted_list)\n",
    "    for e in ['DSDA', 'DSENG', 'DSDM', 'DSRMP', 'DSDK']:\n",
    "        dic.pop(e)\n",
    "    return dic"
   ]
  },
  {
   "cell_type": "code",
   "execution_count": 5,
   "metadata": {},
   "outputs": [],
   "source": [
    "def getNormalizedDictionary(dict_w):\n",
    "    normalized_dict = {k: int(v)/10 for k, v in dict_w.items()}\n",
    "    lstdic = list()\n",
    "    for key, value in normalized_dict.items():\n",
    "        lstdic.append([key, value])\n",
    "    return lstdic"
   ]
  },
  {
   "cell_type": "code",
   "execution_count": 6,
   "metadata": {},
   "outputs": [],
   "source": [
    "def getDifferences(sim, norm_dic):\n",
    "    diff_list = []\n",
    "    for i in range(0,len(sim)):\n",
    "        divider = sim[i][1]\n",
    "        if(divider < 0):\n",
    "            divider = 0 # Sim però possono essere anche negativi essendo calcolati tramite la cosine_similarity, occhio!\n",
    "        diff_value = norm_dic[i][1] - sim[i][1]\n",
    "        if(diff_value < 0):\n",
    "            diff_value = 0\n",
    "        diff_list.append((norm_dic[i][0], diff_value))\n",
    "    return diff_list"
   ]
  },
  {
   "cell_type": "code",
   "execution_count": 7,
   "metadata": {},
   "outputs": [],
   "source": [
    "def getWeightedDifferences(sim, diff_list, norm_dic):\n",
    "    diff_weigheted = []\n",
    "    value = 0\n",
    "    for i in range(0,len(sim)):\n",
    "        weighted_value = diff_list[i][1]*norm_dic[i][1]\n",
    "        diff_weigheted.append((norm_dic[i][0], weighted_value))\n",
    "    return diff_weigheted"
   ]
  },
  {
   "cell_type": "code",
   "execution_count": 8,
   "metadata": {},
   "outputs": [],
   "source": [
    "def getExcelTable(diff_list, dspp):\n",
    "    df = pd.DataFrame(diff_list, columns=['DSComp', 'Score_diff'])\n",
    "    df.to_excel('difference '+dspp+'.xlsx')"
   ]
  },
  {
   "cell_type": "code",
   "execution_count": 9,
   "metadata": {},
   "outputs": [],
   "source": [
    "def getExcelWeightedTable(diff_weigheted, dspp):\n",
    "    df = pd.DataFrame(diff_weigheted, columns=['DSComp', 'Score_diff_weighted'])\n",
    "    df.to_excel('difference_weighted '+dspp+'.xlsx')"
   ]
  }
 ],
 "metadata": {
  "kernelspec": {
   "display_name": "Python 3",
   "language": "python",
   "name": "python3"
  },
  "language_info": {
   "codemirror_mode": {
    "name": "ipython",
    "version": 3
   },
   "file_extension": ".py",
   "mimetype": "text/x-python",
   "name": "python",
   "nbconvert_exporter": "python",
   "pygments_lexer": "ipython3",
   "version": "3.6.7"
  }
 },
 "nbformat": 4,
 "nbformat_minor": 2
}
