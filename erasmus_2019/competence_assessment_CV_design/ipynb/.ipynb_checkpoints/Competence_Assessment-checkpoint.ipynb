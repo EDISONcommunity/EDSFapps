{
 "cells": [
  {
   "cell_type": "code",
   "execution_count": 5,
   "metadata": {},
   "outputs": [],
   "source": [
    "import pandas as pd"
   ]
  },
  {
   "cell_type": "code",
   "execution_count": 6,
   "metadata": {},
   "outputs": [],
   "source": [
    "def getCompetenceToImprove(dif_w):\n",
    "    diff_weigheted_sorted = sorted(dif_w, key=lambda x: x[1], reverse=True)\n",
    "    competence_to_improve = [x for x in diff_weigheted_sorted if x[1] > 0.5]\n",
    "    return competence_to_improve"
   ]
  },
  {
   "cell_type": "code",
   "execution_count": 7,
   "metadata": {},
   "outputs": [],
   "source": [
    "def getTuple_knowScore(dict_w, ontology):\n",
    "    filtering_comp = [x for x in list(ontology.individuals()) if x.get_name() in dict_w.keys()]\n",
    "    knowList = []\n",
    "    for item in filtering_comp:\n",
    "        for knowl in item.knowledge:\n",
    "            knowList.append((knowl.get_name(), dict_w.get(item.get_name())))\n",
    "    return knowList"
   ]
  },
  {
   "cell_type": "code",
   "execution_count": 8,
   "metadata": {},
   "outputs": [],
   "source": [
    "def getAVG_knowledge(l_w):\n",
    "    df = pd.DataFrame(l_w)\n",
    "    df.columns = ['knowledge', 'weight']\n",
    "    df['weight'] = df['weight'].apply(pd.to_numeric)\n",
    "    know_groups = df.groupby(\"knowledge\")\n",
    "    means = know_groups['weight'].mean()\n",
    "    return means.to_dict()"
   ]
  },
  {
   "cell_type": "code",
   "execution_count": 9,
   "metadata": {},
   "outputs": [],
   "source": [
    "def getAVG_units(dict_, ontology):\n",
    "    k_fromOntology = [x for x in list(ontology.individuals()) if x.get_name() in dict_.keys()]\n",
    "    units_avg = dict()\n",
    "    for item in k_fromOntology:\n",
    "        k_units = list(item.boK_mapping)\n",
    "        l = []\n",
    "        for k in k_units:\n",
    "            tot = 1\n",
    "            toAdd = dict_[item.get_name()]\n",
    "            if(k.get_name() in units_avg):\n",
    "                toAdd = (toAdd+units_avg[k.get_name()])\n",
    "                tot += 1\n",
    "            units_avg[k.get_name()] = toAdd/tot # Nested Dictionary\n",
    "    return units_avg"
   ]
  },
  {
   "cell_type": "code",
   "execution_count": 10,
   "metadata": {},
   "outputs": [],
   "source": [
    "def getDS_Course_Score(ds, name):\n",
    "    index = 1\n",
    "    voc = dict()\n",
    "    for ds_sub in ds:\n",
    "        inner = dict()\n",
    "        for knw in ds_sub:\n",
    "            units = knw.boK_mapping\n",
    "            for u in units:\n",
    "                for course in u.course:\n",
    "                    inner[course.get_name()] = units_avg[u.get_name()]\n",
    "        inner_sorted = sorted(inner.items(), key=operator.itemgetter(1), reverse=True)\n",
    "        voc[name+'0'+str(index)] = inner_sorted\n",
    "        index = index+1\n",
    "    return voc"
   ]
  }
 ],
 "metadata": {
  "kernelspec": {
   "display_name": "Python 3",
   "language": "python",
   "name": "python3"
  },
  "language_info": {
   "codemirror_mode": {
    "name": "ipython",
    "version": 3
   },
   "file_extension": ".py",
   "mimetype": "text/x-python",
   "name": "python",
   "nbconvert_exporter": "python",
   "pygments_lexer": "ipython3",
   "version": "3.6.7"
  }
 },
 "nbformat": 4,
 "nbformat_minor": 2
}
