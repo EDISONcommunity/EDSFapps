{
 "cells": [
  {
   "cell_type": "markdown",
   "metadata": {},
   "source": [
    "## Competence Similarity Calculation\n",
    "\n",
    "This implementation will, given the right files, construct results that show the distribution of the data science competence market and will individually show a file's distribution of competencies present.\n",
    "\n",
    "##### NOTE:\n",
    "This code will only use 1 data set. To enable two datasets uncomment the comment sections starting with *\n",
    "\n",
    "\n",
    "----------------\n",
    "Samar Hashemi,\n",
    "\n",
    "11045035,\n",
    "\n",
    "Bachelor Artificial Intelligence"
   ]
  },
  {
   "cell_type": "code",
   "execution_count": 2,
   "metadata": {},
   "outputs": [],
   "source": [
    "# All imports\n",
    "# Python 3\n",
    "\n",
    "import os\n",
    "import numpy as np\n",
    "import re\n",
    "import csv\n",
    "import time\n",
    "import operator\n",
    "import matplotlib.pyplot as plt\n",
    "\n",
    "from nltk import sent_tokenize\n",
    "from sklearn.decomposition import PCA\n",
    "from gensim.models import Word2Vec\n",
    "from nltk.tokenize import word_tokenize\n",
    "from collections import Counter\n",
    "from sklearn.metrics.pairwise import cosine_similarity\n",
    "from sklearn.cluster import KMeans\n",
    "from matplotlib import style\n",
    "style.use(\"ggplot\")\n"
   ]
  },
  {
   "cell_type": "code",
   "execution_count": 50,
   "metadata": {},
   "outputs": [],
   "source": [
    "def tryint(s):\n",
    "    try:\n",
    "        return int(s)\n",
    "    except:\n",
    "        return s\n",
    "\n",
    "def alphanum_key(s):\n",
    "    \"\"\" Turn a string into a list of string and number chunks.\n",
    "        \"z23a\" -> [\"z\", 23, \"a\"]\n",
    "    \"\"\"\n",
    "    return [ tryint(c) for c in re.split('([0-9]+)', s) ]\n",
    "\n",
    "def sort_(l):\n",
    "    \"\"\" Sort the given list in the way that humans expect.\n",
    "    \"\"\"\n",
    "    l.sort_(key=alphanum_key)"
   ]
  },
  {
   "cell_type": "code",
   "execution_count": 3,
   "metadata": {},
   "outputs": [],
   "source": [
    "# Obtains all filenames and sort them by name\n",
    "\n",
    "\n",
    "# Change path to path with files\n",
    "path = '/home/student/ThesisData/IEEE_data_v0.2/'\n",
    "filenames = []\n",
    "for filename in os.listdir(path):\n",
    "    filenames.append(filename)\n",
    "\n",
    "# *\n",
    "#Change path to path with files (if second set is available)\n",
    "# path2 = '/home/student/ThesisData/Indeed_data_v0.0/'\n",
    "# filenames2 = []\n",
    "# for filename in os.listdir(path2):\n",
    "#     filenames2.append(filename)\n",
    "# sort_(filenames2) \n",
    "\n",
    "\n",
    "    \n",
    "# Sorts files on titles\n",
    "sort_(filenames)\n"
   ]
  },
  {
   "cell_type": "code",
   "execution_count": 4,
   "metadata": {},
   "outputs": [],
   "source": [
    "# Only IEEE dataset\n",
    "# Creates dictionary where the key is filenumber\n",
    "# Value is the text with no whitespaces\n",
    "# Split by newlines and periods with Regex\n",
    "\n",
    "sentdictionary = dict()\n",
    "for i in range(len(filenames)):\n",
    "    with open(path + filenames[i], 'r') as f:\n",
    "        text = f.read().lower()\n",
    "        f.close()\n",
    "        sentdictionary[i] = re.split(r\"(?<!^)\\s*[.\\n]+\\s*(?!$)\", text)\n",
    "\n",
    "# *\n",
    "# for j in range(len(filenames2)):\n",
    "#     with open(path2 + filenames2[j], 'r') as g:\n",
    "#         text = g.read().lower()\n",
    "#         g.close()\n",
    "#         sentdictionary[j + len(filenames)] = re.split(r\"(?<!^)\\s*[.\\n]+\\s*(?!$)\", text)\n",
    "\n"
   ]
  },
  {
   "cell_type": "code",
   "execution_count": 6,
   "metadata": {},
   "outputs": [],
   "source": [
    "# Split files into sentences\n",
    "# Prepare them for Word2Vec model\n",
    "sentences = []\n",
    "for i in range(len(filenames)):\n",
    "    for sentence in sentdictionary[i]:\n",
    "        sent = []\n",
    "        sent.append(sentence)\n",
    "        sentences.append(sent)\n",
    "\n",
    "# *\n",
    "# for j in range(len(filenames), len(filenames2)+len(filenames)-1):\n",
    "#     for sentence in sentdictionary[j]:\n",
    "#         sent = []\n",
    "#         sent.append(sentence)\n",
    "#         sentences.append(sent)\n",
    "# print(len(sentences))\n",
    "\n",
    "realsentences = []\n",
    "for sentence in sentences:\n",
    "    tokens = word_tokenize(sentence[0])\n",
    "    realsentences.append(tokens)"
   ]
  },
  {
   "cell_type": "code",
   "execution_count": 10,
   "metadata": {},
   "outputs": [
    {
     "name": "stderr",
     "output_type": "stream",
     "text": [
      "/home/student/.local/lib/python3.5/site-packages/ipykernel_launcher.py:4: DeprecationWarning: Call to deprecated `__getitem__` (Method will be removed in 4.0.0, use self.wv.__getitem__() instead).\n",
      "  after removing the cwd from sys.path.\n"
     ]
    }
   ],
   "source": [
    "# Create Word embedding model\n",
    "\n",
    "model = Word2Vec(realsentences,window=8, min_count=2)\n",
    "W = model[model.wv.vocab]"
   ]
  },
  {
   "cell_type": "code",
   "execution_count": 11,
   "metadata": {},
   "outputs": [
    {
     "name": "stdout",
     "output_type": "stream",
     "text": [
      "1.5512926578521729\n"
     ]
    }
   ],
   "source": [
    "t = time.time()\n",
    "\n",
    "model.train(realsentences, total_examples=model.corpus_count, epochs=6)\n",
    "\n",
    "elapsed = time.time() - t\n",
    "print(elapsed)"
   ]
  },
  {
   "cell_type": "code",
   "execution_count": 15,
   "metadata": {},
   "outputs": [],
   "source": [
    "model.save('model-v0.1.bin')"
   ]
  },
  {
   "cell_type": "code",
   "execution_count": 13,
   "metadata": {},
   "outputs": [],
   "source": [
    "# Find most similar words to a certain word\n",
    "# Creates usable model\n",
    "\n",
    "word_vectors = model.wv\n"
   ]
  },
  {
   "cell_type": "code",
   "execution_count": 16,
   "metadata": {},
   "outputs": [
    {
     "data": {
      "text/plain": [
       "[('learning', 0.975829005241394),\n",
       " ('statistical', 0.8729550838470459),\n",
       " ('vision', 0.8715915679931641),\n",
       " ('processing', 0.8606395125389099),\n",
       " ('segments', 0.8600909113883972),\n",
       " ('signal', 0.8375363349914551),\n",
       " ('deep', 0.809394359588623),\n",
       " ('artificial', 0.8041590452194214),\n",
       " ('mining', 0.8023086190223694),\n",
       " ('natural', 0.8015767335891724)]"
      ]
     },
     "execution_count": 16,
     "metadata": {},
     "output_type": "execute_result"
    }
   ],
   "source": [
    "# Example functionality\n",
    "# Find most similar words to a certain word\n",
    "\n",
    "# word_vectors = model.wv\n",
    "# word_vectors.most_similar(['use','engineering'])\n",
    "# word_vectors.similarity('artificial', 'intelligence')\n",
    "word_vectors.most_similar(['machine'])"
   ]
  },
  {
   "cell_type": "markdown",
   "metadata": {},
   "source": [
    "### Visualisation\n",
    "\n",
    "The following cell will first transform the 100 dimensional vector to a 2 dimensional representation.\n",
    "Hereafter Kmeans will apply clustering.\n",
    "Cluster will be made visible herafter to "
   ]
  },
  {
   "cell_type": "code",
   "execution_count": 17,
   "metadata": {},
   "outputs": [],
   "source": [
    "# Some test Taxonomy\n",
    "taxonomy =  ['python', 'data', 'science', 'radio', 'error', 'analyse', 'programming']"
   ]
  },
  {
   "cell_type": "code",
   "execution_count": 18,
   "metadata": {},
   "outputs": [
    {
     "name": "stderr",
     "output_type": "stream",
     "text": [
      "No handles with labels found to put in legend.\n"
     ]
    },
    {
     "data": {
      "image/png": "[encoded data removed]",
      "text/plain": [
       "<Figure size 432x288 with 1 Axes>"
      ]
     },
     "metadata": {},
     "output_type": "display_data"
    },
    {
     "data": {
      "text/plain": [
       "<Figure size 3200x1800 with 0 Axes>"
      ]
     },
     "metadata": {},
     "output_type": "display_data"
    }
   ],
   "source": [
    "# Transform vectors to 2-dimensions\n",
    "pca = PCA(n_components=2)\n",
    "result = pca.fit_transform(W)\n",
    "result_np = np.array(result)\n",
    "\n",
    "kmeans = KMeans(n_clusters = 5)\n",
    "kmeans.fit(result_np)\n",
    "centroids = kmeans.cluster_centers_\n",
    "labels = kmeans.labels_\n",
    "\n",
    "# print(centroids)\n",
    "# print(labels)\n",
    "\n",
    "colors = [\"g.\",\"w.\",\"c.\",\"y.\", \"m.\"]\n",
    "word1 = ''\n",
    "word2 = ''\n",
    "word3 = ''\n",
    "word4 = ''\n",
    "word5 = ''\n",
    "for i in range(len(result_np)):\n",
    "#     print(\"coordinate:\",result_np[i], \"label:\", labels[i])\n",
    "    plt.plot(result_np[i][0], result_np[i][1], colors[labels[i]], markersize = 10)\n",
    "    if result_np[i][0] == centroids[0][0] and result_np[i][1] == centroids[0][1]:\n",
    "        word1 = W[i]\n",
    "    if result_np[i][0] == centroids[0][0] and result_np[i][1] == centroids[1][1]:\n",
    "        word2 = W[i]\n",
    "    if result_np[i][0] == centroids[0][0] and result_np[i][1] == centroids[2][1]:\n",
    "        word3 = W[i]\n",
    "    if result_np[i][0] == centroids[0][0] and result_np[i][1] == centroids[3][1]:\n",
    "        word4 = W[i]\n",
    "    if result_np[i][0] == centroids[0][0] and result_np[i][1] == centroids[4][1]:\n",
    "        word5 = W[i]\n",
    "words = [word1, word2, word3, word4, word5]\n",
    "plt.scatter(centroids[:, 0],centroids[:, 1], marker = \"x\", s=150, linewidths = 5, zorder = 10)\n",
    "plt.annotate(word1, xy=(centroids[0][0], centroids[0][1]))\n",
    "plt.annotate(word2, xy=(centroids[1][0], centroids[1][1]))\n",
    "plt.annotate(word3, xy=(centroids[2][0], centroids[2][1]))\n",
    "plt.annotate(word4, xy=(centroids[3][0], centroids[3][1]))\n",
    "plt.annotate(word5, xy=(centroids[4][0], centroids[4][1]))\n",
    "\n",
    "words = list(model.wv.vocab)\n",
    "for i, word in enumerate(taxonomy):\n",
    "    plt.annotate(word, xy=(result[i, 0], result[i, 1]))\n",
    "\n",
    "plt.legend()\n",
    "plt.figure(figsize=(16,9), dpi=200)\n",
    "plt.savefig('KMeans5.png', dpi=200)\n",
    "plt.show()\n",
    "\n",
    "# plt.scatter(result[:, 0], result[:, 1],color = 'red')\n",
    "\n",
    "# plt.axis([-.8,.25,-0.25,.8])\n",
    "# plt.show()"
   ]
  },
  {
   "cell_type": "markdown",
   "metadata": {},
   "source": [
    "### Competence groups"
   ]
  },
  {
   "cell_type": "code",
   "execution_count": 19,
   "metadata": {},
   "outputs": [],
   "source": [
    "# Data Science Analytics competence requirements\n",
    "DSDA  = ['data analytics', 'statistical techniques', 'mathematics/statistics', 'discover new relations', 'deliver insights', 'research problem', 'decision-making']\n",
    "DSDA1 = ['data analytics techniques', 'machine learning','deep learning', 'supervised learning', 'unsupervised learning', 'data mining','nlp', 'predictive analytics','analysis', 'complex data analysis']\n",
    "DSDA2 = ['apply quantitative techniques', 'statistics', 'calculus', 'time analysis', 'optimization', 'simulation deploy']\n",
    "DSDA3 = ['identify', 'extract', 'heterogeneous data', 'modern data source', 'social media data', 'open data']\n",
    "DSDA4 = ['understand performance metrics', 'understand accuracy metrics', 'use performance', 'model validation', 'testing', 'information retrieval']\n",
    "DSDA5 = ['develop data analytics', 'organizational tasks', 'integrate data analytics', 'agile decisions']\n",
    "DSDA6 = ['visualization results','critical thinking', 'design', 'evaluate', 'evaluating methods']\n",
    "\n",
    "# DSDA_comp = [DSDA, DSDA1, DSDA2, DSDA3, DSDA4, DSDA5, DSDA6]\n",
    "DSDA_comp = {0 : DSDA, 1 : DSDA1, 2 : DSDA2, 3 : DSDA3, 4 : DSDA4, 5 : DSDA5, 6 : DSDA6}"
   ]
  },
  {
   "cell_type": "code",
   "execution_count": 20,
   "metadata": {},
   "outputs": [],
   "source": [
    "# Data Science Engineering competence requirements\n",
    "DSENG  = ['engineering principles', 'modern computer technologies', 'research', 'design', 'implement data analytics', 'implement applications', 'develop experiments', 'develop processes', 'develop instruments']\n",
    "DSENG1 = ['engineering principles', 'research', 'design applications', 'design instruments', 'design applications', 'develop instruments', 'implement instruments', 'implement applications', 'data collection', 'data storage']\n",
    "DSENG2 = ['develop computational solutions', 'apply computational solutions', 'wide range', 'data analytics platforms', 'big data technologies', 'cloud based']\n",
    "DSENG3 = ['develop data analysis applications', 'develop tools', 'parallel processing', 'cluster processing', 'cloud based solutions', '']\n",
    "DSENG4 = ['develop data storage', 'deploy data storage', 'operate data storage', 'hadoop', 'hbase', 'mongodb']\n",
    "DSENG5 = ['apply security mechanisms', 'apply security controls', 'data processing', 'data privacy', 'protection']\n",
    "DSENG6 = ['develop relational databases', 'relational databases', 'build relational databases', 'deploy relational databases', 'sql', 'etl','large datasets']\n",
    "\n",
    "# DSENG_comp = [DSENG, DSENG1, DSENG2, DSENG3, DSENG4, DSENG5, DSENG6]\n",
    "DSENG_comp = {0 : DSENG, 1 : DSENG1, 2 : DSENG2, 3 : DSENG3, 4 : DSENG4, 5 : DSENG5, 6 : DSENG6}"
   ]
  },
  {
   "cell_type": "code",
   "execution_count": 21,
   "metadata": {},
   "outputs": [],
   "source": [
    "# Data Science Management competence requirements\n",
    "DSDM  = ['develop data management', 'implement data management', 'strategy data collection', 'strategy data storage']\n",
    "DSDM1 = ['develop data strategy', 'implement data strategy','data management policy', 'data management plan']\n",
    "DSDM2 = ['develop relevant data models', 'implement relevant data models', 'common standards']\n",
    "DSDM3 = ['integrate heterogeneous data', 'provide heterogeneous data', 'further analysis']\n",
    "DSDM4 = ['maintain information', 'data handling', 'reference data', 'relevant data sources']\n",
    "DSDM5 = ['data quality', 'data interoperability', 'compliance standards', 'compliance publication']\n",
    "DSDM6 = ['develop policies', 'manage policies', 'data protection policies','ethical issues']\n",
    "DSDM_comp = {0 : DSDM, 1 : DSDM1, 2 : DSDM2, 3 : DSDM3, 4 : DSDM4, 5 : DSDM5, 6 : DSDM6}"
   ]
  },
  {
   "cell_type": "code",
   "execution_count": 22,
   "metadata": {},
   "outputs": [],
   "source": [
    "# Research Methods and Project Management competence requirements\n",
    "DSRM  = ['create new understanding', 'create new capabilities', 'scientific method','discover new approaches','create new knowledge','achieve research goals']\n",
    "DSRM1 = ['create new understanding', 'using research methods', 'experiment', 'evaluation','training','testing']\n",
    "DSRM2 = ['direct systematic study','understanding observation','discover new approaches','achieve research goals','achieve goals']\n",
    "DSRM3 = ['domain research model', 'identify data','identify research questions','identify objectives','formulate sound']\n",
    "DSRM4 = ['perform creative work', 'systematic investigation', 'systematic experimentation', 'discover knowledge','adjust knowledge','derive new applications', 'contribute development']\n",
    "DSRM5 = ['design experiments', 'data collection', 'not active collection', 'active collection', 'testing', 'problem solving']\n",
    "DSRM6 = ['develop data driven projects', 'guide data driven projects', 'project planning', 'experiment design', 'data collection', 'handling']\n",
    "DSRM_comp = {0 : DSRM, 1 : DSRM1, 2 : DSRM2, 3 : DSRM3, 4 : DSRM4, 5 : DSRM5, 6 : DSRM6}"
   ]
  },
  {
   "cell_type": "code",
   "execution_count": 23,
   "metadata": {},
   "outputs": [],
   "source": [
    "# Domain related Competences (DSDK): Applied to Business Analytics\n",
    "DSBA  = ['use domain knowledge', 'develop data analytics applications', 'use data science methods', 'domain specific data types', 'domain specific presentations']\n",
    "DSBA1 = ['information needs', 'assess existing data', 'propose new data', 'identify new data', 'business context','achieve goal', 'social network source', 'open network sources']\n",
    "DSBA2 = ['operational concepts', 'enable key performance', 'validate business analysis', 'identify potential challenges', 'assess potential challenges']\n",
    "DSBA3 = ['business focused analysis', 'methods tools', 'identify business impact trends', 'make business case',  'data analysis', 'identified trends']\n",
    "DSBA4 = ['opportunity', 'propose data', 'process optimization']\n",
    "DSBA5 = ['customer relations', 'optimize data', 'interaction user groups', 'specific business sectors']\n",
    "DSBA6 = ['multiple datasets', 'marketing purposes', 'identify effective strategy', 'marketing actions']\n",
    "DSDK_comp = {0 : DSBA, 1 : DSBA1, 2 : DSBA2, 3 : DSBA3, 4 : DSBA4, 5 : DSBA5, 6 : DSBA6}"
   ]
  },
  {
   "cell_type": "code",
   "execution_count": 24,
   "metadata": {},
   "outputs": [],
   "source": [
    "# Dictionary that stores all competence groups\n",
    "dictionaries = [DSDA_comp, DSENG_comp, DSDM_comp, DSRM_comp, DSDK_comp]"
   ]
  },
  {
   "cell_type": "code",
   "execution_count": 26,
   "metadata": {},
   "outputs": [],
   "source": [
    "# This was done to see if there are spellings mistakes in the competence groups\n",
    "for dictionaryy in dictionaries:\n",
    "    for key, comp in dictionaryy.items():\n",
    "        for sent in comp:\n",
    "            for word in sent.split():\n",
    "                if word not in word_vectors:\n",
    "                    print(word)\n",
    "                    print(key)"
   ]
  },
  {
   "cell_type": "markdown",
   "metadata": {},
   "source": [
    "### Calculation Code\n",
    "Here starts the code for calculating similarities between sentences/files and competence groups."
   ]
  },
  {
   "cell_type": "code",
   "execution_count": 27,
   "metadata": {},
   "outputs": [],
   "source": [
    "# The reason why I dont take full line length, is because not every\n",
    "# word in the line is in the model.\n",
    "# This function tranfsorms every sentence of a textfile to a vector that\n",
    "# represents the meaning of the sentence according to the model u give it\n",
    "\n",
    "# This returns a dictionary for a certain text where every sentence has\n",
    "# been transformed to a vector that represents the sentence's meaning.\n",
    "def sentence_meaning(textNumber, dictionary, model, nfeatures):\n",
    "    sentence_meanings = []\n",
    "    vector_dict = dict()\n",
    "    text = dictionary[textNumber]\n",
    "    for line in text:\n",
    "        line_length = 0\n",
    "        vector = np.zeros(nfeatures, dtype='float32')\n",
    "        for word in line.split():\n",
    "            if word in model:\n",
    "                line_length += 1\n",
    "                vector += model[word]\n",
    "        if np.all(vector==0) != True:\n",
    "            vector = vector / line_length\n",
    "            sentence_meanings.append(vector)\n",
    "    vector_dict[textNumber] = sentence_meanings\n",
    "    return vector_dict\n",
    "# competence_sim(testtext, word_vectors, 100)\n",
    "\n",
    "\n",
    "# This function transforms all individual competencies to vector\n",
    "# representation which contanis the meanings of the individual competencies\n",
    "# Works very fast even with 3 for-loops\n",
    "def competence_meaning(comp_group, model, nfeatures):\n",
    "    competence_dict = {}\n",
    "    # 6 individual competencies per competence group\n",
    "    # DSDA, DSDA1, DSDA2 ... etc.\n",
    "    for key, comp in comp_group.items():\n",
    "        competence_meanings = []\n",
    "        comp_length = 0\n",
    "        # Total of 6 - 10 sentences\n",
    "        for sentences in comp:\n",
    "            vector = np.zeros(nfeatures, dtype='float32')\n",
    "            # 2 or 3 words\n",
    "            for word in sentences:\n",
    "                if word in model:\n",
    "                    comp_length += 1\n",
    "                    vector += model[word]\n",
    "            vector = vector / comp_length\n",
    "            competence_meanings.append(vector)\n",
    "        competence_dict[key] = competence_meanings\n",
    "    return competence_dict\n",
    "    \n"
   ]
  },
  {
   "cell_type": "code",
   "execution_count": 28,
   "metadata": {},
   "outputs": [],
   "source": [
    "# All sentence_meanings stored in a vector:\n",
    "sentence_vectors = [sentence_meaning(num, sentdictionary, word_vectors, 100) for num in range(len(filenames))]\n",
    "\n",
    "# *\n",
    "# Run this instead if using two seperate data sets\n",
    "# sentence_vectors = [sentence_meaning(num, sentdictionary, word_vectors, 100) for num in range(len(filenames) + len(filenames2))]\n",
    "\n",
    "\n",
    "\n",
    "# All Individual competencies meanings stored in a vector:\n",
    "competence_vectors = [competence_meaning(dictionary_comp, word_vectors, 100) for dictionary_comp in dictionaries]"
   ]
  },
  {
   "cell_type": "code",
   "execution_count": 29,
   "metadata": {},
   "outputs": [],
   "source": [
    "\n",
    "# Function for getting the max value of a dictionary\n",
    "def get_max(dictionary):\n",
    "    return max(dictionary.items(), key=operator.itemgetter(1))[0]\n",
    "\n",
    "\n",
    "# This provides the similarity results. \n",
    "# See thesis for explanation on how the code works if not clear.\n",
    "def calculate_results(sentences, competencies, threshhold):\n",
    "    text_class = dict()\n",
    "    sixth_group = dict()\n",
    "    comp = []\n",
    "    for file_id in range(len(sentences)):\n",
    "        another_dict = {0:0,1:0,2:0,3:0,4:0}\n",
    "        sentence_number = 0\n",
    "        for sentence_vec in sentences[file_id][file_id]:\n",
    "            sentence_number += 1\n",
    "            comp_dict = dict()\n",
    "            for comp_group in range(len(competencies)):\n",
    "                similarity = 0\n",
    "                count = 0\n",
    "                for individual_comp in range(len(competencies[comp_group])):\n",
    "#                     competencies[comp][individual_comp]\n",
    "                    comp = np.atleast_2d(competencies[comp_group][individual_comp])\n",
    "                    sent = np.atleast_2d(sentence_vec)\n",
    "                    cosine = cosine_similarity(comp, sent)[0][0]\n",
    "                    if cosine > threshhold:\n",
    "                        similarity += cosine\n",
    "                        count += 1\n",
    "                if count != 0:\n",
    "                    similarity = similarity / count\n",
    "                    sixth_group[(file_id, sentence_number)] = False\n",
    "                else:\n",
    "                    sixth_group[(file_id, sentence_number)] = True\n",
    "                    similarity = similarity\n",
    "                comp_dict[comp_group] = similarity\n",
    "\n",
    "            another_dict[get_max(comp_dict)] += 1\n",
    "        \n",
    "        text_class[file_id] = (another_dict)\n",
    "    return text_class, sixth_group"
   ]
  },
  {
   "cell_type": "code",
   "execution_count": 41,
   "metadata": {},
   "outputs": [],
   "source": [
    "final_results = calculate_results(sentence_vectors, competence_vectors, (0.55))"
   ]
  },
  {
   "cell_type": "markdown",
   "metadata": {},
   "source": [
    "Results will differ slightly per newly trained models, therefore load original models in the beginning to retrieve similar results."
   ]
  },
  {
   "cell_type": "code",
   "execution_count": 43,
   "metadata": {},
   "outputs": [
    {
     "name": "stdout",
     "output_type": "stream",
     "text": [
      "6932\n"
     ]
    }
   ],
   "source": [
    "results = final_results[0]\n",
    "sixth_group = final_results[1]\n",
    "trues = 0\n",
    "for i in sixth_group.values():\n",
    "    if i == True:\n",
    "        trues += 1\n",
    "print(trues)"
   ]
  },
  {
   "cell_type": "markdown",
   "metadata": {},
   "source": [
    "### Saving results to files"
   ]
  },
  {
   "cell_type": "code",
   "execution_count": null,
   "metadata": {},
   "outputs": [],
   "source": [
    "# Writes the results to .csv file\n",
    "with open(\"results_1_epoch6_cos0.55.csv\",'w') as f:\n",
    "   # Using dictionary keys as fieldnames for the CSV file header\n",
    "    writer = csv.DictWriter(f, calc[0][0].keys())\n",
    "    writer.writeheader()\n",
    "    for d in range(len(calc[0])):\n",
    "        writer.writerow(results[d])"
   ]
  },
  {
   "cell_type": "code",
   "execution_count": 47,
   "metadata": {},
   "outputs": [],
   "source": [
    "totals = {'DSDA' : 0, 'DSENG' : 0,\n",
    "'DSDM' : 0,\n",
    "'DSRM' : 0,\n",
    "'DSDK' : 0 ,\n",
    "'Unseen' : 0}\n",
    "for i in range(len(results)):\n",
    "    totals['DSDA'] += results[i][0]\n",
    "    totals['DSENG'] += results[i][1]\n",
    "    totals['DSDM'] += results[i][2]\n",
    "    totals['DSRM'] += results[i][3]\n",
    "    totals['DSDK'] += results[i][4]\n",
    "totals['Unseen'] = trues"
   ]
  },
  {
   "cell_type": "code",
   "execution_count": 48,
   "metadata": {},
   "outputs": [
    {
     "data": {
      "text/plain": [
       "{'DSDA': 4564,\n",
       " 'DSDK': 1256,\n",
       " 'DSDM': 4510,\n",
       " 'DSENG': 414,\n",
       " 'DSRM': 297,\n",
       " 'Unseen': 6932}"
      ]
     },
     "execution_count": 48,
     "metadata": {},
     "output_type": "execute_result"
    }
   ],
   "source": [
    "totals"
   ]
  },
  {
   "cell_type": "code",
   "execution_count": 49,
   "metadata": {},
   "outputs": [],
   "source": [
    "# Writing averages to .csv file\n",
    "with open(\"average_sentences_2_epoch6_cos0.55.csv\",'w') as f:\n",
    "   # Using dictionary keys as fieldnames for the CSV file header\n",
    "    writer = csv.DictWriter(f, totals.keys())\n",
    "    writer.writeheader()\n",
    "#    for d in range(len(results)):\n",
    "    writer.writerow(totals)"
   ]
  }
 ],
 "metadata": {
  "kernelspec": {
   "display_name": "Python 3",
   "language": "python",
   "name": "python3"
  },
  "language_info": {
   "codemirror_mode": {
    "name": "ipython",
    "version": 3
   },
   "file_extension": ".py",
   "mimetype": "text/x-python",
   "name": "python",
   "nbconvert_exporter": "python",
   "pygments_lexer": "ipython3",
   "version": "3.5.2"
  }
 },
 "nbformat": 4,
 "nbformat_minor": 2
}
