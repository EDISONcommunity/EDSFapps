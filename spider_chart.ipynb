{
 "cells": [
  {
   "cell_type": "code",
   "execution_count": 1,
   "metadata": {},
   "outputs": [],
   "source": [
    "import numpy as np\n",
    "import plotly.express as px\n",
    "import plotly.graph_objects as go\n",
    "from plotly.subplots import make_subplots"
   ]
  },
  {
   "cell_type": "code",
   "execution_count": 2,
   "metadata": {},
   "outputs": [],
   "source": [
    "def spider(sim, job):\n",
    "    # construct spider chart\n",
    "    values = np.array(sim[job])\n",
    "    titles = values[:,0]\n",
    "    sim_values = values[:,1].astype(float)\n",
    "    normalized = sim_values / max(sim_values)\n",
    "    \n",
    "    var = go.Scatterpolar(\n",
    "    name = job, \n",
    "      r = normalized,\n",
    "        theta = titles,\n",
    "          fill = 'toself'\n",
    "    )\n",
    "    return var"
   ]
  },
  {
   "cell_type": "code",
   "execution_count": 3,
   "metadata": {},
   "outputs": [],
   "source": [
    "def calculate_rows(sim):\n",
    "    rest = len(sim) % 2\n",
    "    if rest == 0:\n",
    "        nrows = len(sim)/2\n",
    "    elif rest == 1:\n",
    "        nrows = (len(sim)+1)/2\n",
    "    return int(nrows)"
   ]
  },
  {
   "cell_type": "code",
   "execution_count": 4,
   "metadata": {},
   "outputs": [],
   "source": [
    "def gridplot(sim, title, caption, comp=False):\n",
    "    nrows = calculate_rows(sim)\n",
    "    fig = make_subplots(rows=nrows, cols=2, specs=[[{'type': 'polar'}]*2]*nrows, subplot_titles=caption)\n",
    "    jobs = list(sim.keys())\n",
    "    c = 0\n",
    "    # loop over rows and add spider chart\n",
    "    for i in range(1, nrows+1):\n",
    "        for j in range(1, 3):\n",
    "            try:\n",
    "                fig.add_trace(spider(sim, jobs[c]), i, j)\n",
    "            except:\n",
    "                break\n",
    "            c += 1\n",
    "    \n",
    "    # default values, change to change appearance of plot\n",
    "    mult = 450\n",
    "    shift = -300\n",
    "    if comp:\n",
    "        mult = 750\n",
    "        shift = -500\n",
    "    fig.update_layout(showlegend = False,\n",
    "    width = 1200,\n",
    "    height = nrows*mult, \n",
    "    title_text = title,\n",
    "    margin_autoexpand = True\n",
    "    )\n",
    "    \n",
    "    fig.update_annotations(yshift=shift)\n",
    "    \n",
    "    \n",
    "    return fig.show()"
   ]
  }
 ],
 "metadata": {
  "kernelspec": {
   "display_name": "Python 3",
   "language": "python",
   "name": "python3"
  },
  "language_info": {
   "codemirror_mode": {
    "name": "ipython",
    "version": 3
   },
   "file_extension": ".py",
   "mimetype": "text/x-python",
   "name": "python",
   "nbconvert_exporter": "python",
   "pygments_lexer": "ipython3",
   "version": "3.7.1"
  }
 },
 "nbformat": 4,
 "nbformat_minor": 4
}
