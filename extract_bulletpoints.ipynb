{
 "cells": [
  {
   "cell_type": "code",
   "execution_count": 1,
   "metadata": {},
   "outputs": [],
   "source": [
    "import re\n",
    "import bs4\n",
    "import time\n",
    "import string\n",
    "import numpy as np\n",
    "import pandas as pd\n",
    "from textblob import TextBlob\n",
    "from collections import defaultdict\n",
    "from bs4 import BeautifulSoup as BS\n",
    "from deep_translator import GoogleTranslator"
   ]
  },
  {
   "cell_type": "code",
   "execution_count": 2,
   "metadata": {},
   "outputs": [],
   "source": [
    "df = pd.read_csv('dataframe_data steward.csv')"
   ]
  },
  {
   "cell_type": "code",
   "execution_count": 4,
   "metadata": {},
   "outputs": [],
   "source": [
    "def remove_btags(bulletpoint):\n",
    "    # remove any bold text from the bulletpoints\n",
    "    try: \n",
    "        bulletpoint.b.unwrap()\n",
    "    except:\n",
    "        pass\n",
    "    return bulletpoint "
   ]
  },
  {
   "cell_type": "code",
   "execution_count": 5,
   "metadata": {},
   "outputs": [],
   "source": [
    "def p_bullets(description, bulletpoint, str_bullet):\n",
    "    # find <p> version of text in description\n",
    "    string = description.find('p', text=bulletpoint.text)\n",
    "    if string:\n",
    "    # loop over all preceding p tags\n",
    "        for p_string in string.find_all_previous('p'):\n",
    "            p_string = f'<li>{p_string}</li>'\n",
    "            # find the one that is not already in the bulletspoint\n",
    "            if p_string not in str_bullet:\n",
    "                head = re.sub('<[^<]+?>', '', p_string)\n",
    "                break\n",
    "    else:\n",
    "        head = None\n",
    "    return head"
   ]
  },
  {
   "cell_type": "code",
   "execution_count": 6,
   "metadata": {},
   "outputs": [],
   "source": [
    "def normal_bullets(bulletpoint):\n",
    "    # head of bulletpoints is previous <p> tag\n",
    "    if not bulletpoint.find_previous('p'):\n",
    "        head = None\n",
    "    else:\n",
    "        head = bulletpoint.find_previous('p').text.replace('\\n', '')\n",
    "        # if head is too long, it is normal text, not the head\n",
    "        if len(head) > 60 or len(head) == 0:\n",
    "            # check if head is h3, h2 or b\n",
    "            try:\n",
    "                head = bulletpoint.find_previous('h3').text.replace('\\n', '')\n",
    "            except:\n",
    "                try:\n",
    "                    head = bulletpoint.find_previous('h2').text.replace('\\n', '')\n",
    "                except:\n",
    "                    try:\n",
    "                        head = bulletpoint.find_previous('b').text.replace('\\n', '')\n",
    "                    except:\n",
    "                        head = None\n",
    "    return head"
   ]
  },
  {
   "cell_type": "code",
   "execution_count": 7,
   "metadata": {},
   "outputs": [],
   "source": [
    "def br_bullets(bulletpoint):\n",
    "    # When bulletpoints are inside <br> tags\n",
    "    if bulletpoint.find_previous('br'):\n",
    "        previous = [sibling.nextSibling for sibling in bulletpoint.find_previous('br').find_previous_siblings()]\n",
    "        if len(previous) == 0:\n",
    "            head = None\n",
    "        else:\n",
    "            if isinstance(previous[0], str):\n",
    "                head = previous[0].replace('\\n', '')\n",
    "            else:\n",
    "                head = None\n",
    "    else:\n",
    "        head = None\n",
    "    \n",
    "    return head"
   ]
  },
  {
   "cell_type": "code",
   "execution_count": 8,
   "metadata": {},
   "outputs": [],
   "source": [
    "def translated(t):\n",
    "    return GoogleTranslator(source='nl', target='en').translate(t.lower())"
   ]
  },
  {
   "cell_type": "code",
   "execution_count": 9,
   "metadata": {},
   "outputs": [],
   "source": [
    "def bulletpoints_dict(dataframe):\n",
    "    \"\"\" returns dictionary with bulletpoints of vacancies \"\"\"\n",
    "    all_bulletpoints = defaultdict(list)\n",
    "    for index, description in enumerate(dataframe['description']):\n",
    "        bulletpoints = BS(description, 'html.parser').findAll('li')\n",
    "        bs4_description = BS(description, 'html.parser')\n",
    "\n",
    "        str_bullets = list(map(str, bulletpoints))\n",
    "        # if there are no bulletpoints:\n",
    "        if len(bulletpoints) == 0:\n",
    "            pass\n",
    "        else:\n",
    "            # detect language\n",
    "            lang = TextBlob(bulletpoints[0].text[:100]).detect_language()\n",
    "             # for each bulletpoint\n",
    "            for item in bulletpoints:\n",
    "                # remove bold text\n",
    "                item = remove_btags(item)\n",
    "                # check for <p> case\n",
    "                if '<p>' in str(item):\n",
    "                    head = p_bullets(bs4_description, item, str_bullets)\n",
    "                # if only br text\n",
    "                elif item.find_previous('p') == None:\n",
    "                    head = br_bullets(item)\n",
    "                else: \n",
    "                    head = normal_bullets(item)\n",
    "                # add head as key and bulletpoint as value\n",
    "                if head == None:\n",
    "                     head = 'no head'\n",
    "                else:\n",
    "                    # if head is too long, skip it\n",
    "                    if len(head) > 60:\n",
    "                        pass\n",
    "                    else:\n",
    "                        # if language is dutch, translate to english\n",
    "                        if lang == 'nl':\n",
    "                            head = translated(head)\n",
    "                            point = translated(item.text.replace('\\n', ''))\n",
    "                        else:\n",
    "                            head = head.lower()\n",
    "                            point = item.text.replace('\\n', '').lower()\n",
    "\n",
    "                        headlist = (dataframe.iloc[index]['id'], head)\n",
    "                        all_bulletpoints[headlist].append(point)\n",
    "                        \n",
    "    return all_bulletpoints"
   ]
  },
  {
   "cell_type": "code",
   "execution_count": 10,
   "metadata": {
    "scrolled": true
   },
   "outputs": [],
   "source": [
    "all_bullet_dict = bulletpoints_dict(df)"
   ]
  },
  {
   "cell_type": "code",
   "execution_count": 11,
   "metadata": {},
   "outputs": [],
   "source": [
    "green = ['you have', \n",
    "         'you’ll have',\n",
    "         'you need',\n",
    "         'you’ll need',\n",
    "         'you are',\n",
    "         'you offer',\n",
    "         'you bring',\n",
    "         'about you',\n",
    "         'we ask', \n",
    "         'we expect', \n",
    "         'require', \n",
    "         'skills', \n",
    "         'knowledge', \n",
    "         'experience', \n",
    "         'education',\n",
    "         'candidate', \n",
    "         'profile',\n",
    "         'looking for',\n",
    "         'qualification',\n",
    "         'recognize yourself']"
   ]
  },
  {
   "cell_type": "code",
   "execution_count": 12,
   "metadata": {},
   "outputs": [],
   "source": [
    "def requirement(item, green):\n",
    "    res = False\n",
    "    if item:\n",
    "        if any(word in item for word in green):\n",
    "            res = True\n",
    "    return res"
   ]
  },
  {
   "cell_type": "code",
   "execution_count": 13,
   "metadata": {},
   "outputs": [],
   "source": [
    "def select_requirements(dictionary, green_list):\n",
    "    \"\"\" select requirement based on green list \"\"\"\n",
    "    d = {k: v for k, v in dictionary.items() if requirement(k[1], green)}\n",
    "    dict2 = d.copy()\n",
    "    m = []\n",
    "    for r in dict2.keys():\n",
    "        if len(m) > 0 and r[0] in np.array(m)[:,0]:\n",
    "            first = next(item for item in m if item[0] == r[0])\n",
    "            dict2[first].extend(dict2[r])\n",
    "            continue\n",
    "        else:\n",
    "            pass\n",
    "        m.append(r)\n",
    "        \n",
    "    for key in d.keys():\n",
    "        if key not in m:\n",
    "            del dict2[key]\n",
    "            \n",
    "    return dict2"
   ]
  },
  {
   "cell_type": "code",
   "execution_count": 14,
   "metadata": {},
   "outputs": [
    {
     "data": {
      "text/plain": [
       "{('DSP_0',\n",
       "  'candidate profile:'): ['at least a bachelor’s degree from an accredited university or college in computer science (or in a similar field);', 'relevant work experience as a master data analyst or in related field.', 'able to work with stakeholders to assess potential risks.', 'able to analyze existing tools and databases and provide necessary software solution recommendations.', 'familiar with master data, data transfer workbench, intercompany functionality in sap business one will be an advantage', 'you are experienced with sql and relational database;', 'you are da-100 powerbi certified;', 'ability to translate business requirements into non-technical, lay terms.', 'high-level experience in methodologies and processes for managing large scale databases.', 'demonstrated experience in handling large data sets and relational databases.', 'understanding of addressing master and metadata standards.', 'high-level written and verbal communication skills.', 'fluent in english and dutch, chinese language will be an advantage.'],\n",
       " ('DSP_1',\n",
       "  'requirements'): ['eagerness to learn, develop new processes, and try new things in service to building our company culture', 'functional hands-on experience in all areas of hr including benefits, compensation, team relations, regulatory and hiring', 'knowledge of applicable laws and regulations as they relate to hr in the netherlands', 'excellent written and verbal communication skills in both english and dutch', 'highly self-motivated and directed', 'effective coaching, influencing, presentation and facilitation skills', 'ability to adapt to continually changing business and work environment, manage multiple priorities and drive changes throughout the organization', 'ability to motivate in a team-oriented, collaborative environment'],\n",
       " ('DSP_2',\n",
       "  'what do we require of you'): ['excellent research skills, evidenced by a track record of publications in renowned international conferences and journals and invited talks at international conferences, workshops or seminars;', 'a background in and research experience related to one or more of the following: scientific workflows, data science, data management, data curation, data provenance;', 'the ability to form and implement a research agenda by acquiring external funding and attracting personnel; the agenda should bring together research efforts from indelab and cci and be to the benefit of the data science centre;', 'the ability to work closely with researchers of diverse (scientific) backgrounds, including data scientists and system/software engineers;', 'a strong affinity with data science and the necessity of fair data;', 'experience or affinity with software, software languages, software development and language engineering;', 'a proven record of high quality and diverse academic teaching at the bsc and msc level', 'the dutch basic teaching qualification (or foreign equivalent), or willingness to acquire such a qualification within two years;', 'preferably experience with the (co-)supervision of ba/bsc, ma/msc and/or phd students;', '(the ability to develop) the management skills required for general academic administration, organisational and coordination tasks;', 'excellent communication and social skills;', 'good command of english and the willingness to learn dutch.'],\n",
       " ('DSP_4',\n",
       "  'candidate profile:'): ['at least a bachelor’s degree from either an accredited university of research or university of applied sciences (hbo) in computer science (or in a similar field);', 'being familiar with master data management, sap data transfer workbench, data tables in sap business one will be an advantage;', 'you are experienced with sql and relational database;', 'certified in da-100 powerbi;', 'you are familiar with snowflake data cloudplatform;', 'you have high-level experience in methodologies and processes for managing large scale databases;', 'you have demonstrated experience in handling large data sets and relational databases;', 'you are knowledge in general business processes;', 'you are able to translate business requirements into non-technical, lay terms;', 'high-level written and verbal communication skills;', 'fluent in english and dutch. chinese language will be an advantage.'],\n",
       " ('DSP_5',\n",
       "  'your profile and skills'): ['experience in the agile way of working as a product owner', 'knowledge and experience with data management and data warehousing', 'knowledge and experience of the financial industry.', 'knowledge of and experience with loan products is a must, especially mortgages in the dutch context', 'knowledge of and experience with laws and regulations around financial institutions (local and international)', 'conceptual and analytical', 'excellent communication skills', 'proficient in english (verbal and writing)', 'enthusiastic personality, who motivates the squad performance and supports the agile way of working in multidisciplinary teams. an advocate of the “ing orange code”', 'willing to frequently travel abroad (approx. 1 a month), especially to brussels', 'master or bachelor degree'],\n",
       " ('DSP_6',\n",
       "  'the skills and experience you’ll bringyou will:'): ['bring proven expertise in b2b marketing in the financial services industry, with asset management experience', 'have proven expertise as a leader', 'show solid experience in planning, execution and measuring of marketing campaigns, events and pr, with deep digital experience a clear advantage', 'has high energy and the ability to motivate and lead', 'loves building relationships and has the confidence to collaborate with senior leads', 'has an analytical mind-set, we need you to understand and deliver the metrics that link marketing to commercial results', 'enjoys travelling and getting to know the local markets'],\n",
       " ('DSP_7',\n",
       "  'your profile:'): ['you are experience with data processes on/in data lake in relation to: gdpr, ethics compliance', 'has some experience in setting up data governance at data lake level', 'you are proactive, flexible and a process thinker', 'english speaker, dutch is nice to have!']}"
      ]
     },
     "execution_count": 14,
     "metadata": {},
     "output_type": "execute_result"
    }
   ],
   "source": [
    "req = select_requirements(all_bullet_dict, green)"
   ]
  },
  {
   "cell_type": "code",
   "execution_count": null,
   "metadata": {},
   "outputs": [],
   "source": []
  },
  {
   "cell_type": "code",
   "execution_count": null,
   "metadata": {},
   "outputs": [],
   "source": []
  }
 ],
 "metadata": {
  "kernelspec": {
   "display_name": "Python 3",
   "language": "python",
   "name": "python3"
  },
  "language_info": {
   "codemirror_mode": {
    "name": "ipython",
    "version": 3
   },
   "file_extension": ".py",
   "mimetype": "text/x-python",
   "name": "python",
   "nbconvert_exporter": "python",
   "pygments_lexer": "ipython3",
   "version": "3.7.1"
  }
 },
 "nbformat": 4,
 "nbformat_minor": 4
}
