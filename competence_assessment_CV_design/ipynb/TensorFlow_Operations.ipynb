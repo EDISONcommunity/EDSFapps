{
 "cells": [
  {
   "cell_type": "code",
   "execution_count": 1,
   "metadata": {},
   "outputs": [],
   "source": [
    "def removeKey(K, model, coordinates):\n",
    "    if(K in model.wv.vocab):\n",
    "        list_dict = list(model.wv.vocab.keys())\n",
    "        # Fondamentale mantenere l'allineamento\n",
    "        index = list_dict.index(K)\n",
    "        upd_vector = np.delete(coordinates, index, axis=0)\n",
    "        coordinates = upd_vector\n",
    "        del model.wv.vocab[K]\n",
    "    return coordinates"
   ]
  },
  {
   "cell_type": "code",
   "execution_count": 3,
   "metadata": {},
   "outputs": [],
   "source": [
    "def tensorBoardOutput(model, coordinates):\n",
    "    np.savetxt('wordCoordinatesTensor.tsv', coordinates, delimiter=\"\\t\") #Save1\n",
    "    f = open('wordMetadataTensor.tsv','w') #Save2\n",
    "    for item in model.wv.vocab:\n",
    "        f.write(str(item)+'\\n')\n",
    "    f.close()"
   ]
  }
 ],
 "metadata": {
  "kernelspec": {
   "display_name": "Python 3",
   "language": "python",
   "name": "python3"
  },
  "language_info": {
   "codemirror_mode": {
    "name": "ipython",
    "version": 3
   },
   "file_extension": ".py",
   "mimetype": "text/x-python",
   "name": "python",
   "nbconvert_exporter": "python",
   "pygments_lexer": "ipython3",
   "version": "3.6.7"
  }
 },
 "nbformat": 4,
 "nbformat_minor": 2
}
